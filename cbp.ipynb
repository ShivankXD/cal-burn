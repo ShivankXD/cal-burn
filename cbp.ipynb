{
 "cells": [
  {
   "cell_type": "code",
   "execution_count": 1,
   "id": "11196eba-4132-4f65-ae8d-c434c308c36c",
   "metadata": {},
   "outputs": [],
   "source": [
    "import pandas as pd "
   ]
  },
  {
   "cell_type": "code",
   "execution_count": 2,
   "id": "4ff63479-15ef-4838-a125-3224c2db2df9",
   "metadata": {},
   "outputs": [],
   "source": [
    "exercisedata=pd.read_csv('exercise_dataset.csv')\n",
    "caloriesdata=pd.read_csv('calories.csv')"
   ]
  },
  {
   "cell_type": "markdown",
   "id": "a9aeed0f-0b3f-4d32-ad7b-4e358e9f01ba",
   "metadata": {},
   "source": [
    " Imported Pandas and the required  training datasets "
   ]
  },
  {
   "cell_type": "code",
   "execution_count": 3,
   "id": "8773ba98-6dc3-427e-8abc-97f2921c86bb",
   "metadata": {},
   "outputs": [
    {
     "name": "stdout",
     "output_type": "stream",
     "text": [
      "  Activity, Exercise or Sport (1 hour)  130 lb  155 lb  180 lb  205 lb  \\\n",
      "0          Cycling, mountain bike, bmx     502     598     695     791   \n",
      "1  Cycling, <10 mph, leisure bicycling     236     281     327     372   \n",
      "2             Cycling, >20 mph, racing     944    1126    1308    1489   \n",
      "3          Cycling, 10-11.9 mph, light     354     422     490     558   \n",
      "4       Cycling, 12-13.9 mph, moderate     472     563     654     745   \n",
      "\n",
      "   Calories per kg  \n",
      "0         1.750730  \n",
      "1         0.823236  \n",
      "2         3.294974  \n",
      "3         1.234853  \n",
      "4         1.647825  \n",
      "    User_ID  Gender  Age  Height  Weight  Duration  Heart_Rate  Body_Temp  \\\n",
      "0  14733363    male   68   190.0    94.0      29.0       105.0       40.8   \n",
      "1  14861698  female   20   166.0    60.0      14.0        94.0       40.3   \n",
      "2  11179863    male   69   179.0    79.0       5.0        88.0       38.7   \n",
      "3  16180408  female   34   179.0    71.0      13.0       100.0       40.5   \n",
      "4  17771927  female   27   154.0    58.0      10.0        81.0       39.8   \n",
      "\n",
      "   Calories  \n",
      "0     231.0  \n",
      "1      66.0  \n",
      "2      26.0  \n",
      "3      71.0  \n",
      "4      35.0  \n"
     ]
    }
   ],
   "source": [
    "print(exercisedata.head())\n",
    "print(caloriesdata.head())   #Testing if dataset is getting displayed "
   ]
  },
  {
   "cell_type": "code",
   "execution_count": null,
   "id": "ffef6d9f-48a8-42ea-985a-8e63def56af0",
   "metadata": {},
   "outputs": [],
   "source": []
  },
  {
   "cell_type": "code",
   "execution_count": null,
   "id": "5141b872-d6f5-4f8a-985a-f035bfb31e62",
   "metadata": {},
   "outputs": [],
   "source": []
  }
 ],
 "metadata": {
  "kernelspec": {
   "display_name": "Python 3 (ipykernel)",
   "language": "python",
   "name": "python3"
  },
  "language_info": {
   "codemirror_mode": {
    "name": "ipython",
    "version": 3
   },
   "file_extension": ".py",
   "mimetype": "text/x-python",
   "name": "python",
   "nbconvert_exporter": "python",
   "pygments_lexer": "ipython3",
   "version": "3.12.6"
  }
 },
 "nbformat": 4,
 "nbformat_minor": 5
}
