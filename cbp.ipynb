{
 "cells": [
  {
   "cell_type": "code",
   "execution_count": 1,
   "id": "11196eba-4132-4f65-ae8d-c434c308c36c",
   "metadata": {},
   "outputs": [],
   "source": [
    "import pandas as pd\n",
    "import numpy as np"
   ]
  },
  {
   "cell_type": "code",
   "execution_count": 2,
   "id": "4ff63479-15ef-4838-a125-3224c2db2df9",
   "metadata": {},
   "outputs": [],
   "source": [
    "# Load datasets\n",
    "df_calories = pd.read_csv(\"calories.csv\")\n",
    "df_exercise = pd.read_csv(\"exercise_dataset.csv\")"
   ]
  },
  {
   "cell_type": "markdown",
   "id": "a9aeed0f-0b3f-4d32-ad7b-4e358e9f01ba",
   "metadata": {},
   "source": [
    " Imported Pandas and the required  training datasets "
   ]
  },
  {
   "cell_type": "code",
   "execution_count": 3,
   "id": "8773ba98-6dc3-427e-8abc-97f2921c86bb",
   "metadata": {},
   "outputs": [
    {
     "name": "stdout",
     "output_type": "stream",
     "text": [
      "    User_ID  Gender  Age  Height  Weight  Duration  Heart_Rate  Body_Temp  \\\n",
      "0  14733363    male   68   190.0    94.0      29.0       105.0       40.8   \n",
      "1  14861698  female   20   166.0    60.0      14.0        94.0       40.3   \n",
      "2  11179863    male   69   179.0    79.0       5.0        88.0       38.7   \n",
      "3  16180408  female   34   179.0    71.0      13.0       100.0       40.5   \n",
      "4  17771927  female   27   154.0    58.0      10.0        81.0       39.8   \n",
      "\n",
      "   Calories  \n",
      "0     231.0  \n",
      "1      66.0  \n",
      "2      26.0  \n",
      "3      71.0  \n",
      "4      35.0  \n",
      "                              Activity  130 lb  155 lb  180 lb  205 lb  \\\n",
      "0          Cycling, mountain bike, bmx     502     598     695     791   \n",
      "1  Cycling, <10 mph, leisure bicycling     236     281     327     372   \n",
      "2             Cycling, >20 mph, racing     944    1126    1308    1489   \n",
      "3          Cycling, 10-11.9 mph, light     354     422     490     558   \n",
      "4       Cycling, 12-13.9 mph, moderate     472     563     654     745   \n",
      "\n",
      "   Calories per kg  \n",
      "0         1.750730  \n",
      "1         0.823236  \n",
      "2         3.294974  \n",
      "3         1.234853  \n",
      "4         1.647825  \n"
     ]
    }
   ],
   "source": [
    "print(df_calories.head())\n",
    "print(df_exercise.head())   #Testing if dataset is getting displayed "
   ]
  },
  {
   "cell_type": "code",
   "execution_count": 4,
   "id": "ffef6d9f-48a8-42ea-985a-8e63def56af0",
   "metadata": {},
   "outputs": [
    {
     "name": "stdout",
     "output_type": "stream",
     "text": [
      "<class 'pandas.core.frame.DataFrame'>\n",
      "RangeIndex: 15000 entries, 0 to 14999\n",
      "Data columns (total 9 columns):\n",
      " #   Column      Non-Null Count  Dtype  \n",
      "---  ------      --------------  -----  \n",
      " 0   User_ID     15000 non-null  int64  \n",
      " 1   Gender      15000 non-null  object \n",
      " 2   Age         15000 non-null  int64  \n",
      " 3   Height      15000 non-null  float64\n",
      " 4   Weight      15000 non-null  float64\n",
      " 5   Duration    15000 non-null  float64\n",
      " 6   Heart_Rate  15000 non-null  float64\n",
      " 7   Body_Temp   15000 non-null  float64\n",
      " 8   Calories    15000 non-null  float64\n",
      "dtypes: float64(6), int64(2), object(1)\n",
      "memory usage: 1.0+ MB\n",
      "None\n",
      "<class 'pandas.core.frame.DataFrame'>\n",
      "RangeIndex: 248 entries, 0 to 247\n",
      "Data columns (total 6 columns):\n",
      " #   Column           Non-Null Count  Dtype  \n",
      "---  ------           --------------  -----  \n",
      " 0   Activity         248 non-null    object \n",
      " 1   130 lb           248 non-null    int64  \n",
      " 2   155 lb           248 non-null    int64  \n",
      " 3   180 lb           248 non-null    int64  \n",
      " 4   205 lb           248 non-null    int64  \n",
      " 5   Calories per kg  248 non-null    float64\n",
      "dtypes: float64(1), int64(4), object(1)\n",
      "memory usage: 11.8+ KB\n",
      "None\n"
     ]
    }
   ],
   "source": [
    "print(df_calories.info())\n",
    "print(df_exercise.info())"
   ]
  },
  {
   "cell_type": "markdown",
   "id": "7c530d03-d4c6-4827-bd9b-c3972e91fb59",
   "metadata": {},
   "source": [
    "### Data cleaning and Handling missing values \n",
    "Removing rows which might have missing values . \n",
    "Alternately missing values can be filled with the mean, median, or mode, depending on the data type: df.fillna(df.mean(), inplace=True)  # For numerical columns\n",
    "In this scenario , i am dropping the missing values . \n",
    "Also , Z-Score can be used to remove any outliers (Values which might the model slow or give inaccurate answers ) \n"
   ]
  },
  {
   "cell_type": "code",
   "execution_count": 5,
   "id": "76272761-671d-4048-a161-fcb535588266",
   "metadata": {},
   "outputs": [],
   "source": [
    "df_exercise.dropna(inplace=True)\n",
    "df_calories.dropna(inplace=True)\n",
    "df_exercise.drop_duplicates(inplace=True) # Removing Duplicate Values\n",
    "df_calories.drop_duplicates(inplace=True)"
   ]
  },
  {
   "cell_type": "code",
   "execution_count": 6,
   "id": "5b32777f-04d1-40ff-a4ab-32c7dd92d1c9",
   "metadata": {},
   "outputs": [],
   "source": [
    "# Convert weight columns in df_exercise to strings for proper matching\n",
    "weight_columns = ['130 lb', '155 lb', '180 lb', '205 lb']\n",
    "df_exercise.rename(columns={col: col.replace(\" \", \"\") for col in weight_columns}, inplace=True)"
   ]
  },
  {
   "cell_type": "code",
   "execution_count": 7,
   "id": "274db6f3-122a-497e-868b-0f1cf68f955b",
   "metadata": {},
   "outputs": [],
   "source": [
    "# Define function to map weight to category\n",
    "def map_weight_to_column(weight):\n",
    "    if weight <= 130:\n",
    "        return '130lb'\n",
    "    elif weight <= 155:\n",
    "        return '155lb'\n",
    "    elif weight <= 180:\n",
    "        return '180lb'\n",
    "    elif weight <= 205:\n",
    "        return '205lb'\n",
    "    else:\n",
    "        return '205lb'"
   ]
  },
  {
   "cell_type": "code",
   "execution_count": 8,
   "id": "0e29369b-5cd3-4913-86af-e2769df33820",
   "metadata": {},
   "outputs": [],
   "source": [
    "# Apply mapping\n",
    "df_calories['Weight_Category'] = df_calories['Weight'].apply(map_weight_to_column)"
   ]
  },
  {
   "cell_type": "code",
   "execution_count": 9,
   "id": "81535e59-3716-4cc1-90b2-1477beef3350",
   "metadata": {},
   "outputs": [],
   "source": [
    "# Randomly assign an Activity to each user , since activities are not yet assigned to users from first dataset \n",
    "df_calories['Activity'] = np.random.choice(df_exercise['Activity'], size=len(df_calories), replace=True)\n"
   ]
  },
  {
   "cell_type": "code",
   "execution_count": 15,
   "id": "c30ca293-264f-46d1-8802-354fbda937f2",
   "metadata": {},
   "outputs": [],
   "source": [
    "df_calories['Weight_Category'] = df_calories['Weight_Category'].astype(str)\n",
    "df_exercise.columns = df_exercise.columns.astype(str)  # Convert all column names to strings\n"
   ]
  },
  {
   "cell_type": "code",
   "execution_count": 16,
   "id": "82115dca-08d7-4de2-b4de-fcfe911b8587",
   "metadata": {},
   "outputs": [],
   "source": [
    "# Convert column names in df_exercise to strings\n",
    "df_exercise.columns = df_exercise.columns.astype(str)\n",
    "\n",
    "# Merge only on 'Activity'\n",
    "df_merged = df_calories.merge(df_exercise, how='left', on='Activity')\n",
    "\n",
    "# Select the correct column dynamically using .apply() and .get()\n",
    "df_merged['Calories_Burned'] = df_merged.apply(lambda row: row.get(str(row['Weight_Category']), None), axis=1)\n"
   ]
  },
  {
   "cell_type": "code",
   "execution_count": null,
   "id": "7eab4eca-1ef1-4ea4-a186-4fd1f48ab750",
   "metadata": {},
   "outputs": [],
   "source": []
  }
 ],
 "metadata": {
  "kernelspec": {
   "display_name": "Python 3 (ipykernel)",
   "language": "python",
   "name": "python3"
  },
  "language_info": {
   "codemirror_mode": {
    "name": "ipython",
    "version": 3
   },
   "file_extension": ".py",
   "mimetype": "text/x-python",
   "name": "python",
   "nbconvert_exporter": "python",
   "pygments_lexer": "ipython3",
   "version": "3.12.6"
  }
 },
 "nbformat": 4,
 "nbformat_minor": 5
}
